{
 "cells": [
  {
   "cell_type": "markdown",
   "metadata": {},
   "source": [
    "# [\"Buffer-Stock Saving and the Life Cycle/Permanent Income Hypothesis](https://www.jstor.org/stable/2951275?seq=1#page_scan_tab_contents)\"\n",
    "- Original Paper by Christopher D. Carroll\n",
    "- Notebook by Yusuf Suha Kulu and Jeongwon (John) Son"
   ]
  },
  {
   "cell_type": "markdown",
   "metadata": {},
   "source": [
    "### Summary\n",
    "\n",
    "This paper argues that the saving behavior of households is better described by a \"buffer stock\" version of the Life Cycle/Permanent Income Hypothesis (LC/PIH), which incorporates income uncertainty and the corresponding precautionary saving motive, than by the traditional perfect foresight version of that model. During the buffer stock phase of the life cycle, consumers set average consumption growth equal to average labor income growth. During this phase, the model predicts a high marginal propensity to consume (MPC) out of transitory income, a high effective discount rate for future labor income, and a strong correlation between saving and expected labor income growth.  The paper shows that under plausible configurations of parameter values, including a time preference factor of 0.96, relative risk aversion of 2, and an age-income profile matching the evidence in the U.S., the  median consumer can optimally engage in \"buffer stock\" saving behavior until late middle age, before beginning to behave in ways that more closely resemble the traditional perfect foresight life  cycle  model.\n",
    "\n",
    "The finite horizon version of the model presented in the paper explains three emprical puzzles.\n",
    "\n",
    "1. __Consumption/income parallel :__  Aggregate consumption parallels growth in income over periods of more than a few years.\n",
    "2. __Consumption/income divergence :__ For individual households, consumption is far from current income. This implies the consumption/income parallel does not arise at the household level.\n",
    "3. __Stability of the household age/wealth profile :__ The effects of the productivity growth slowdown after 1973 on the age/median-wealth profile and the extraordinarily high volatility of the household liquid wealth are explained. \n"
   ]
  },
  {
   "cell_type": "markdown",
   "metadata": {},
   "source": [
    "The traditional perfect foresight model is the following:\n",
    "\n",
    "Finite Horizon  \n",
    "\n",
    "$$c_t = \\kappa_t[m_t + h_t]$$ \n",
    "$$h_t = \\sum_{i=t+1}^{T}R^{i-t}y_{i} $$\n",
    "$$\\kappa_t = \\frac{(1 - {[R^{-1}(\\beta R)^{1/\\rho}]})}{(1 - {[R^{-1}(\\beta R)^{1/\\rho}]}^{T-t+1})}$$\n",
    "\n",
    "\n",
    "\n",
    "Infinite Horizon \n",
    "\n",
    "$$c_t = \\kappa_t[m_t + h_t]$$\n",
    "$$h_t = \\sum_{i=t+1}^{\\infty}R^{i-t}y_{i} \\approx \\frac{y_t}{r - g}$$\n",
    "$$\\kappa = {(1 - {[R^{-1}(\\beta R)^{1/\\rho}]})}$$\n",
    "\n",
    "The buffer stock version of the model will be different."
   ]
  },
  {
   "cell_type": "markdown",
   "metadata": {},
   "source": [
    "### Model Setup\n",
    "\n",
    " \n",
    "\n",
    "The consumer solves the following intertemporal optimization problem. \n",
    "\n",
    " \n",
    "\n",
    "$$ \\max \\quad E_t \\Sigma_{n=0}^{T-t} \\beta^{n}u(c_{t+n}) $$\n",
    "\n",
    "\\begin{aligned} \\text{s.t.} \\quad b_{t+1} &= R[b_t + y_t - c_t]\\\\\n",
    "y_t &= p_tv_t\\\\\n",
    "p_t &= G_tp_{t-1}n_t \n",
    "\\end{aligned}\n",
    "\n",
    "$y$: current labor income \n",
    "\n",
    "$p$: permanent labor income \n",
    "\n",
    "$v$: transitory income shock \n",
    "\n",
    "$n$: permanent income shock\n",
    "\n",
    "$G = (1+g)$: growth factor for permanent labor income \n",
    "\n",
    "$b$: stock of physical net wealth \n",
    "\n",
    "$R = (1+r)$: gross interest rate \n",
    "\n",
    "$\\beta = 1/(1+\\delta)$: discount factor\n",
    "\n",
    " \n",
    "\n",
    "Solving the consumer's optimization problem gives the following Euler equation. \n",
    "\n",
    " \n",
    "\n",
    "$$1= R\\beta E_{t-1}[\\{c_t[R[m_{t-1}-c_{t-1}]/Gn_t + v_t]Gn_t/c_{t-1}\\}^{-\\rho}]$$ \n",
    "\n",
    "Lower case variables are defined as the uppercase variables divided by the current level of permanent income. \n",
    "\n",
    "$m = b+y$: gross wealth\n",
    "\n",
    " \n",
    "\n",
    "Since this is a life cycle model, the consumer consumes everything in the last period:$c_T[m_T] = m_T$. This implies that by recursion, the Euler equation gives the consumption ratio for each period. \n",
    "\n",
    " \n",
    "\n",
    "If shocks to consumption are assumed to be lognormally distributed, a log-linearized version of the Euler equation takes the following form.\n",
    "\n",
    " \n",
    "\n",
    "$$ E_t\\Delta \\ln c_{t+1} \\approx \\rho^{-1}(r-\\delta) + (\\rho/2)\\text{var}_t(\\Delta\\ln c_{t+1}) + e_{t+1} $$\n",
    "\n",
    " \n",
    "\n",
    "The figure below depicts expected consumption growth. As can be seen from the directional arrows, there is a target level of wealth ratio and consumption ratio."
   ]
  },
  {
   "cell_type": "code",
   "execution_count": null,
   "metadata": {
    "code_folding": [
     0
    ]
   },
   "outputs": [],
   "source": [
    "# The following references have been terrific sources of help in creating this Notebook.\n",
    "\n",
    "# https://github.com/llorracc/BufferStockTheory/blob/master/Code/Python/BufferStockTheory.ipynb\n",
    "## This notebook contains the codes for plotting the arrows and solving the bufferstock model to obtain the optimal consumption function.\n",
    "\n",
    "# https://github.com/econ-ark/HARK/blob/master/HARK/ConsumptionSaving/ConsIndShockModel.py\n",
    "## This file contains the codes for various consumer types and shocks. We import the perfect foresight and bufferstock consumer types and use both the infinite horizon model and the lifecycle model.\n",
    "\n",
    "# https://github.com/econ-ark/HARK/blob/master/HARK/ConsumptionSaving/ConsumerParameters.py\n",
    "## This file contains the parameters used for solving the model.\n",
    "\n",
    "# https://github.com/matthew-zahn/CGMPort/blob/develop/REMARK/CGM_REMARK.ipynb\n",
    "## This notebook contains code that is used for plotting consumption and income over time.\n",
    "\n",
    "# https://github.com/zhuang13atJHU/ballpark/blob/subsubbranch-Aiyagari/models/We-Would-Like-In-Econ-ARK/AiyagariIdiosyncratic/do_all.py\n",
    "## This file contains code that is useful for exporting figures and tables, which is used in the do_all.py file."
   ]
  },
  {
   "cell_type": "code",
   "execution_count": null,
   "metadata": {
    "code_folding": [
     0
    ]
   },
   "outputs": [],
   "source": [
    "# This cell has a bit of initial setup.\n",
    "import matplotlib.pyplot as plt\n",
    "\n",
    "import numpy as np\n",
    "import HARK \n",
    "from HARK.utilities import plotFuncs"
   ]
  },
  {
   "cell_type": "code",
   "execution_count": null,
   "metadata": {
    "code_folding": [
     0
    ]
   },
   "outputs": [],
   "source": [
    "# Define a parameter dictionary with baseline parameter values\n",
    "\n",
    "# Set the baseline parameter values \n",
    "PermGroFac = 1.02\n",
    "Rfree      = 1\n",
    "DiscFac    = 0.96\n",
    "CRRA       = 2.00\n",
    "UnempPrb   = 0.005\n",
    "IncUnemp   = 0.0\n",
    "PermShkStd = 0.1\n",
    "TranShkStd = 0.1\n",
    "# Import default parameter values\n",
    "import HARK.ConsumptionSaving.ConsumerParameters as Params \n",
    "\n",
    "# Make a dictionary containing all parameters needed to solve the model\n",
    "base_params = Params.init_idiosyncratic_shocks\n",
    "\n",
    "# Set the parameters for the baseline results in the paper\n",
    "# using the variable values defined in the cell above\n",
    "base_params['PermGroFac'] = [PermGroFac]   # Permanent income growth factor\n",
    "base_params['Rfree']      = Rfree          # Interest factor on assets\n",
    "base_params['DiscFac']    = DiscFac        # Time Preference Factor\n",
    "base_params['CRRA']       = CRRA           # Coefficient of relative risk aversion\n",
    "base_params['UnempPrb']   = UnempPrb       # Probability of unemployment (e.g. Probability of Zero Income in the paper)\n",
    "base_params['IncUnemp']   = IncUnemp       # Induces natural borrowing constraint\n",
    "base_params['PermShkStd'] = [PermShkStd]   # Standard deviation of log permanent income shocks\n",
    "base_params['TranShkStd'] = [TranShkStd]   # Standard deviation of log transitory income shocks\n",
    "\n",
    "# Some technical settings that are not interesting for our purposes\n",
    "base_params['LivPrb']       = [1.0]   # 100 percent probability of living to next period\n",
    "base_params['CubicBool']    = True    # Use cubic spline interpolation\n",
    "base_params['T_cycle']      = 1       # No 'seasonal' cycles\n",
    "base_params['BoroCnstArt']  = None    # No artificial borrowing constraint\n",
    "\n"
   ]
  },
  {
   "cell_type": "code",
   "execution_count": null,
   "metadata": {
    "code_folding": [
     0
    ],
    "scrolled": true
   },
   "outputs": [],
   "source": [
    "# Import the key tools needed from the HARK toolkit\n",
    "from HARK.ConsumptionSaving.ConsIndShockModel import IndShockConsumerType #Import consumer type\n",
    "baseEx_inf = IndShockConsumerType(cycles=0,**base_params) #cycles=0 implies infinite horizon model\n",
    "\n",
    "baseEx_inf.solve()\n",
    "baseEx_inf.unpackcFunc()"
   ]
  },
  {
   "cell_type": "code",
   "execution_count": null,
   "metadata": {
    "code_folding": [
     0
    ]
   },
   "outputs": [],
   "source": [
    "# Define a function to calculate expected consumption \n",
    "def exp_consumption(a):\n",
    "    '''\n",
    "    Taking end-of-period assets as input, return expectation of next period's consumption\n",
    "    Inputs:\n",
    "       a: end-of-period assets\n",
    "    Returns:\n",
    "       expconsump: next period's expected consumption\n",
    "    '''\n",
    "    GrowFactp1 = baseEx_inf.PermGroFac[0]* baseEx_inf.PermShkDstn[0][1]\n",
    "    Rnrmtp1 = baseEx_inf.Rfree / GrowFactp1\n",
    "    # end-of-period assets plus normalized returns\n",
    "    btp1 = Rnrmtp1*a\n",
    "    # expand dims of btp1 and use broadcasted sum of a column and a row vector\n",
    "    # to obtain a matrix of possible beginning-of-period assets next period\n",
    "    mtp1 = np.expand_dims(btp1, axis=1) + baseEx_inf.TranShkDstn[0][1]\n",
    "    part_expconsumption = GrowFactp1*baseEx_inf.cFunc[0](mtp1).T\n",
    "    # finish expectation over permanent income shocks by right multiplying with\n",
    "    # the weights\n",
    "    part_expconsumption = np.dot(part_expconsumption, baseEx_inf.PermShkDstn[0][0])\n",
    "    # finish expectation over transitory income shocks by right multiplying with\n",
    "    # weights\n",
    "    expconsumption = np.dot(part_expconsumption, baseEx_inf.TranShkDstn[0][0])\n",
    "    # return expected consumption\n",
    "    return expconsumption"
   ]
  },
  {
   "cell_type": "code",
   "execution_count": null,
   "metadata": {
    "code_folding": [
     0
    ]
   },
   "outputs": [],
   "source": [
    "# Calculate the expected consumption growth factor\n",
    "m1 = np.linspace(1,baseEx_inf.solution[0].mNrmSS,50) # m1 defines the plot range on the left of target m value (e.g. m <= target m)\n",
    "c_m1 = baseEx_inf.cFunc[0](m1)\n",
    "a1 = m1-c_m1\n",
    "exp_consumption_l1 = [exp_consumption(i) for i in a1]\n",
    "\n",
    "# growth1 defines the values of expected consumption growth factor when m is less than target m\n",
    "growth1 = np.array(exp_consumption_l1)/c_m1\n",
    "\n",
    "# m2 defines the plot range on the right of target m value (e.g. m >= target m)\n",
    "m2 = np.linspace(baseEx_inf.solution[0].mNrmSS,1.9,50)\n",
    "c_m2 = baseEx_inf.cFunc[0](m2)\n",
    "a2 = m2-c_m2\n",
    "exp_consumption_l2 = [exp_consumption(i) for i in a2]\n",
    "\n",
    "# growth 2 defines the values of expected consumption growth factor when m is bigger than target m\n",
    "growth2 = np.array(exp_consumption_l2)/c_m2"
   ]
  },
  {
   "cell_type": "code",
   "execution_count": null,
   "metadata": {
    "code_folding": [
     0
    ]
   },
   "outputs": [],
   "source": [
    "# Define a function to construct the arrows on the consumption growth rate function\n",
    "def arrowplot(axes, x, y, narrs=15, dspace=0.5, direc='neg',\n",
    "              hl=0.01, hw=3, c='black'):\n",
    "    '''\n",
    "    The function is used to plot arrows given the data x and y.\n",
    "\n",
    "    Input:\n",
    "        narrs  :  Number of arrows that will be drawn along the curve\n",
    "\n",
    "        dspace :  Shift the position of the arrows along the curve.\n",
    "                  Should be between 0. and 1.\n",
    "\n",
    "        direc  :  can be 'pos' or 'neg' to select direction of the arrows\n",
    "\n",
    "        hl     :  length of the arrow head\n",
    "\n",
    "        hw     :  width of the arrow head\n",
    "\n",
    "        c      :  color of the edge and face of the arrow head\n",
    "    '''\n",
    "\n",
    "    # r is the distance spanned between pairs of points\n",
    "    r = np.sqrt(np.diff(x)**2+np.diff(y)**2)\n",
    "    r = np.insert(r, 0, 0.0)\n",
    "\n",
    "    # rtot is a cumulative sum of r, it's used to save time\n",
    "    rtot = np.cumsum(r)\n",
    "\n",
    "    # based on narrs set the arrow spacing\n",
    "    aspace = r.sum() / narrs\n",
    "\n",
    "    if direc is 'neg':\n",
    "        dspace = -1.*abs(dspace)\n",
    "    else:\n",
    "        dspace = abs(dspace)\n",
    "\n",
    "    arrowData = [] # will hold tuples of x,y,theta for each arrow\n",
    "    arrowPos = aspace*(dspace) # current point on walk along data\n",
    "                                 # could set arrowPos to 0 if you want\n",
    "                                 # an arrow at the beginning of the curve\n",
    "\n",
    "    ndrawn = 0\n",
    "    rcount = 1\n",
    "    while arrowPos < r.sum() and ndrawn < narrs:\n",
    "        x1,x2 = x[rcount-1],x[rcount]\n",
    "        y1,y2 = y[rcount-1],y[rcount]\n",
    "        da = arrowPos-rtot[rcount]\n",
    "        theta = np.arctan2((x2-x1),(y2-y1))\n",
    "        ax = np.sin(theta)*da+x1\n",
    "        ay = np.cos(theta)*da+y1\n",
    "        arrowData.append((ax,ay,theta))\n",
    "        ndrawn += 1\n",
    "        arrowPos+=aspace\n",
    "        while arrowPos > rtot[rcount+1]:\n",
    "            rcount+=1\n",
    "            if arrowPos > rtot[-1]:\n",
    "                break\n",
    "\n",
    "    for ax,ay,theta in arrowData:\n",
    "        # use aspace as a guide for size and length of things\n",
    "        # scaling factors were chosen by experimenting a bit\n",
    "\n",
    "        dx0 = np.sin(theta)*hl/2.0 + ax\n",
    "        dy0 = np.cos(theta)*hl/2.0 + ay\n",
    "        dx1 = -1.*np.sin(theta)*hl/2.0 + ax\n",
    "        dy1 = -1.*np.cos(theta)*hl/2.0 + ay\n",
    "\n",
    "        if direc is 'neg' :\n",
    "            ax0 = dx0\n",
    "            ay0 = dy0\n",
    "            ax1 = dx1\n",
    "            ay1 = dy1\n",
    "        else:\n",
    "            ax0 = dx1\n",
    "            ay0 = dy1\n",
    "            ax1 = dx0\n",
    "            ay1 = dy0\n",
    "\n",
    "        axes.annotate('', xy=(ax0, ay0), xycoords='data',\n",
    "                xytext=(ax1, ay1), textcoords='data',\n",
    "                arrowprops=dict( headwidth=hw, frac=1., ec=c, fc=c))"
   ]
  },
  {
   "cell_type": "code",
   "execution_count": null,
   "metadata": {
    "code_folding": [
     0
    ]
   },
   "outputs": [],
   "source": [
    "# Plot consumption growth as a function of market resources\n",
    "# Calculate Absolute Patience Factor Phi = lower bound of consumption growth factor\n",
    "import math\n",
    "\n",
    "AbsPatientFac = math.log((baseEx_inf.Rfree*baseEx_inf.DiscFac)**(1.0/baseEx_inf.CRRA))\n",
    "\n",
    "fig = plt.figure(figsize = (12,8))\n",
    "ax = fig.add_subplot(111)\n",
    "\n",
    "# Plot the Absolute Patience Factor line\n",
    "ax.plot([0,2.0],[AbsPatientFac,AbsPatientFac], label=r'Absolute Patience Rate: $\\rho^{-1}(r-\\delta)$')\n",
    "\n",
    "# Plot the Permanent Income Growth Factor line\n",
    "ax.plot([0,2.0],[math.log(baseEx_inf.PermGroFac[0]),math.log(baseEx_inf.PermGroFac[0])], label=r'Permanent Income Growth Rate: $g$')\n",
    "\n",
    "# Plot the expected consumption growth factor on the left side of target m\n",
    "ax.plot(m1,np.log(growth1),color=\"black\", label=r'Expected Consumption Growth Rate: $E_t\\Delta \\log C_{t+1}$')\n",
    "\n",
    "# Plot the expected consumption growth factor on the right side of target m\n",
    "ax.plot(m2,np.log(growth2),color=\"black\")\n",
    "\n",
    "# Plot the arrows\n",
    "arrowplot(ax, m1,np.log(growth1))\n",
    "arrowplot(ax, m2,np.log(growth2), direc='pos')\n",
    "\n",
    "# Plot the target m\n",
    "ax.plot([baseEx_inf.solution[0].mNrmSS,baseEx_inf.solution[0].mNrmSS],[-1,1.4],color=\"red\", label='Target Level of Wealth')\n",
    "ax.set_xlim(1,1.9)\n",
    "ax.set_ylim(-0.05,0.05)\n",
    "\n",
    "plt.xlabel('$m_t$', fontsize=20)\n",
    "plt.ylabel('Growth', fontsize=20)\n",
    "plt.legend()\n",
    "plt.savefig('../../Paper/Figures/Figure1a.png')\n",
    "plt.show()"
   ]
  },
  {
   "cell_type": "code",
   "execution_count": null,
   "metadata": {
    "code_folding": [
     0
    ]
   },
   "outputs": [],
   "source": [
    "# Create a new consumer instance with lower permanent income growth (1.005)\n",
    "\n",
    "# Make a dictionary containing all parameters needed to solve the model\n",
    "base_params1 = Params.init_idiosyncratic_shocks\n",
    "\n",
    "# Set the parameters for the baseline results in the paper\n",
    "# using the variable values defined in the cell above\n",
    "base_params1['PermGroFac'] = [1.005]        # Permanent income growth factor reduced\n",
    "base_params1['Rfree']      = Rfree          # Interest factor on assets\n",
    "base_params1['DiscFac']    = DiscFac        # Time Preference Factor\n",
    "base_params1['CRRA']       = CRRA           # Coefficient of relative risk aversion\n",
    "base_params1['UnempPrb']   = UnempPrb       # Probability of unemployment (e.g. Probability of Zero Income in the paper)\n",
    "base_params1['IncUnemp']   = IncUnemp       # Induces natural borrowing constraint\n",
    "base_params1['PermShkStd'] = [PermShkStd]   # Standard deviation of log permanent income shocks\n",
    "base_params1['TranShkStd'] = [TranShkStd]   # Standard deviation of log transitory income shocks\n",
    "\n",
    "# Some technical settings that are not interesting for our purposes\n",
    "base_params1['LivPrb']       = [1.0]   # 100 percent probability of living to next period\n",
    "base_params1['CubicBool']    = True    # Use cubic spline interpolation\n",
    "base_params1['T_cycle']      = 1       # No 'seasonal' cycles\n",
    "base_params1['BoroCnstArt']  = None    # No artificial borrowing constraint"
   ]
  },
  {
   "cell_type": "code",
   "execution_count": null,
   "metadata": {
    "code_folding": [
     0
    ]
   },
   "outputs": [],
   "source": [
    "from HARK.ConsumptionSaving.ConsIndShockModel import IndShockConsumerType\n",
    "baseEx_inf1 = IndShockConsumerType(cycles=0,**base_params1)\n",
    "\n",
    "baseEx_inf1.solve()\n",
    "baseEx_inf1.unpackcFunc()"
   ]
  },
  {
   "cell_type": "code",
   "execution_count": null,
   "metadata": {
    "code_folding": [
     0
    ]
   },
   "outputs": [],
   "source": [
    "# Recalculate expected consumption with lower permanent income growth\n",
    "def exp_consumption(a):\n",
    "    '''\n",
    "    Taking end-of-period assets as input, return expectation of next period's consumption\n",
    "    Inputs:\n",
    "       a: end-of-period assets\n",
    "    Returns:\n",
    "       expconsump: next period's expected consumption\n",
    "    '''\n",
    "    GrowFactp1 = baseEx_inf1.PermGroFac[0]* baseEx_inf1.PermShkDstn[0][1]\n",
    "    Rnrmtp1 = baseEx_inf1.Rfree / GrowFactp1\n",
    "    # end-of-period assets plus normalized returns\n",
    "    btp1 = Rnrmtp1*a\n",
    "    # expand dims of btp1 and use broadcasted sum of a column and a row vector\n",
    "    # to obtain a matrix of possible beginning-of-period assets next period\n",
    "    mtp1 = np.expand_dims(btp1, axis=1) + baseEx_inf1.TranShkDstn[0][1]\n",
    "    part_expconsumption = GrowFactp1*baseEx_inf1.cFunc[0](mtp1).T\n",
    "    # finish expectation over permanent income shocks by right multiplying with\n",
    "    # the weights\n",
    "    part_expconsumption = np.dot(part_expconsumption, baseEx_inf1.PermShkDstn[0][0])\n",
    "    # finish expectation over transitory income shocks by right multiplying with\n",
    "    # weights\n",
    "    expconsumption = np.dot(part_expconsumption, baseEx_inf1.TranShkDstn[0][0])\n",
    "    # return expected consumption\n",
    "    return expconsumption"
   ]
  },
  {
   "cell_type": "code",
   "execution_count": null,
   "metadata": {
    "code_folding": [
     0
    ]
   },
   "outputs": [],
   "source": [
    "# Calculate the expected consumption growth factor\n",
    "m11 = np.linspace(1,baseEx_inf1.solution[0].mNrmSS,50) # m11 defines the plot range on the left of target m value (e.g. m <= target m)\n",
    "c_m11 = baseEx_inf1.cFunc[0](m11)\n",
    "a11 = m11-c_m11\n",
    "exp_consumption_l11 = [exp_consumption(i) for i in a11]\n",
    "\n",
    "# growth11 defines the values of expected consumption growth factor when m is less than target m\n",
    "growth11 = np.array(exp_consumption_l11)/c_m11\n",
    "\n",
    "# m21 defines the plot range on the right of target m value (e.g. m >= target m)\n",
    "m21 = np.linspace(baseEx_inf1.solution[0].mNrmSS,1.9,50)\n",
    "c_m21 = baseEx_inf1.cFunc[0](m21)\n",
    "a21 = m21-c_m21\n",
    "exp_consumption_l21 = [exp_consumption(i) for i in a21]\n",
    "\n",
    "# growth 21 defines the values of expected consumption growth factor when m is bigger than target m\n",
    "growth21 = np.array(exp_consumption_l21)/c_m21"
   ]
  },
  {
   "cell_type": "code",
   "execution_count": null,
   "metadata": {
    "code_folding": [
     0
    ]
   },
   "outputs": [],
   "source": [
    "# Plot consumption growth for both cases (high growth and low growth) as a function of market resources\n",
    "# Calculate Absolute Patience Factor Phi = lower bound of consumption growth factor\n",
    "AbsPatientFac1 = math.log((baseEx_inf1.Rfree)*(baseEx_inf1.DiscFac)**(1.0/baseEx_inf1.CRRA))\n",
    "\n",
    "fig = plt.figure(figsize = (12,8))\n",
    "ax = fig.add_subplot(111)\n",
    "# Plot the Absolute Patience Factor line\n",
    "ax.plot([0,1.9],[AbsPatientFac1,AbsPatientFac1],label=r'Absolute Patience Rate: $\\rho^{-1}(r-\\delta)$')\n",
    "\n",
    "# Plot the Permanent Income Growth Factor line\n",
    "ax.plot([0,1.9],[math.log(baseEx_inf1.PermGroFac[0]),math.log(baseEx_inf1.PermGroFac[0])], label=r'Permanent Income Growth Rate: $g_2$', color='orange', linestyle=\"--\")\n",
    "ax.plot([0,1.9],[math.log(baseEx_inf.PermGroFac[0]),math.log(baseEx_inf.PermGroFac[0])], label=r'Permanent Income Growth Rate: $g_1$', color='orange')\n",
    "\n",
    "# Plot the expected consumption growth factor on the left side of target m\n",
    "ax.plot(m11,np.log(growth11),color=\"black\",linestyle=\"--\", label=r'Expected Consumption Growth Rate under $g_2$')\n",
    "ax.plot(m1,np.log(growth1),color=\"black\", label=r'Expected Consumption Growth Rate under $g_1$')\n",
    "\n",
    "# Plot the expected consumption growth factor on the right side of target m\n",
    "ax.plot(m21,np.log(growth21),color=\"black\", linestyle=\"--\")\n",
    "ax.plot(m2,np.log(growth2),color=\"black\")\n",
    "\n",
    "# Plot the target m\n",
    "ax.plot([baseEx_inf1.solution[0].mNrmSS,baseEx_inf1.solution[0].mNrmSS],[-0.05,0.05],color=\"red\",linestyle=\"--\", label='Target Level of Wealth under $g_2$')\n",
    "ax.plot([baseEx_inf.solution[0].mNrmSS,baseEx_inf.solution[0].mNrmSS],[-0.05,0.05],color=\"red\", label='Target Level of Wealth under $g_1$')\n",
    "\n",
    "ax.set_xlim(0.9,1.9)\n",
    "ax.set_ylim(-0.05,0.05)\n",
    "plt.xlabel('$m_t$',fontsize=20)\n",
    "plt.ylabel('Growth',fontsize=20)\n",
    "plt.legend()\n",
    "plt.savefig('../../Paper/Figures/Figure1b.png')\n",
    "plt.show()"
   ]
  },
  {
   "cell_type": "markdown",
   "metadata": {},
   "source": [
    "### Methods of Solution\n",
    "\n",
    " \n",
    "\n",
    "The optimal consumption for a given value of gross wealth, $c_t(m_t)$, is derived by solving the Euler equation recursively backwards.\n",
    "\n",
    " \n",
    "\n",
    "1. $c_T(m_T) = m_T$\n",
    "\n",
    "2. For $n$ values of $m_{T-1}$, by using the Euler equation, compute the corresponding $n$ values of $c_{T-1}(m_{T-1})$.\n",
    "\n",
    "3. Using cubic interpolation for values of $m_{T-1}$ between the n values, numerically calculate the function $c_{T-1}(m_{T-1})$.\n",
    "\n",
    "4. Given $c_{T-1}(m_{T-1})$, use the same methods as 2 and 3 to numerically solve for $c_{T-2}(m_{T-2})$.\n",
    "\n",
    "5. Continue this method until period $t$.\n",
    "\n",
    " \n",
    "\n",
    "For the infinite horizon version of this model, the following convergence criterion is used.\n",
    "\n",
    "$$\\frac{1}{n}\\Sigma\\vert c_t(m_i) - c_{t+1}(m_i)\\vert < 0.0005$$"
   ]
  },
  {
   "cell_type": "markdown",
   "metadata": {},
   "source": [
    "### Resolving Three Emprical Puzzles\n",
    "\n",
    "#### 1) The Consumption/Income Parallel in Low Frequency Data\n",
    "\n",
    "Consumption growth and income growth are very closely linked over periods of a few years or longer.\n",
    "\n",
    "Three age/income profiles calibrated using the data for Unskilled Laborers, Operatives, and Managers.\n",
    "1. For Unskilled Labor,labor income grows at 3% annually from ages 25 to 40, and is flat from age 40 to retirement at 65.\n",
    "2. For Operatives, labor income grows at 2.5% annually from the age 25 to 50, then 1% per year until retirement.\n",
    "3. For Managers, income grows at 3% from ages 25 to 55, and declines at 1% per year from 55 to 65.\n",
    "\n",
    "Post-retirement income is assumed to equal 70 percent income in the last year of the working life, for all three groups. "
   ]
  },
  {
   "cell_type": "code",
   "execution_count": null,
   "metadata": {
    "code_folding": [
     0
    ]
   },
   "outputs": [],
   "source": [
    "# Some preliminary setup for the lifecycle model\n",
    "\n",
    "import HARK.ConsumptionSaving.ConsIndShockModel as Model    \n",
    "import HARK.ConsumptionSaving.ConsumerParameters as Params\n",
    "from HARK.utilities import plotFuncsDer, plotFuncs\n",
    "do_simulation = True\n",
    "import numpy as np\n",
    "import matplotlib.pyplot as plt"
   ]
  },
  {
   "cell_type": "code",
   "execution_count": null,
   "metadata": {
    "code_folding": [
     0
    ]
   },
   "outputs": [],
   "source": [
    "# Set Parameters\n",
    "\n",
    "Params.init_lifecycle[\"CRRA\"]= 2.00            # Default coefficient of relative risk aversion (rho)\n",
    "Params.init_lifecycle[\"DiscFac\"]= 0.96         # Default intertemporal discount factor (beta)\n",
    "Params.init_lifecycle[\"PermGroFacAgg\"]= 1.02   # Aggregate permanent income growth factor \n",
    "Params.init_lifecycle[\"aNrmInitMean\"]= -1000   # Mean of log initial assets. Set to -1000 so that initial assets is close to 0.\n",
    "Params.init_lifecycle[\"aNrmInitStd\"]= 0.0      # Standard deviation of log initial assets. All agents start with the same amount of assets.\n",
    "Params.init_lifecycle[\"pLvlInitMean\"]= 0.0     # Mean of log initial permanent income. Initial permanent income is set to 1.\n",
    "Params.init_lifecycle[\"pLvlInitStd\"]= 0.0      # Standard deviation of log initial permanent income. All agents start with the same permanent level of income.\n",
    "Params.init_lifecycle[\"Rfree\"]= 1.00           # Follows the paper's choice of risk free interest rates.\n",
    "\n",
    "Params.init_lifecycle['AgentCount'] = 10000    # Number of agents simulated\n",
    "\n",
    "Params.init_lifecycle['PermShkStd'] = [0.1]*40 + [0]*9      # SD of Permanent income shock\n",
    "Params.init_lifecycle['TranShkStd'] = [0.1]*40 + [0]*9      # SD of Transitory income shock\n",
    "Params.init_lifecycle['LivPrb']     = [1]*49                # Probability of living.\n",
    "Params.init_lifecycle['T_cycle']    = 49                    # Agents are simulated for 49 periods.\n",
    "Params.init_lifecycle['T_retire']   = 40                    # Agents retire at age 65, or their 40th period.\n",
    "Params.init_lifecycle['T_age']      = 50                    #Make sure that old people die at terminal age and don't turn into newborns!"
   ]
  },
  {
   "cell_type": "code",
   "execution_count": null,
   "metadata": {
    "code_folding": [
     0
    ]
   },
   "outputs": [],
   "source": [
    "# Define Unskilled Laborers: 3 percent growth from 26~40. flat for 40~65.\n",
    "\n",
    "Params.init_lifecycle[\"pLvlInitMean\"]= math.log(1/1.03)  #There seems to be a bug where the permanent income is increased by the growth rate already in the first period. This is set to offset that and have agents start with permanent income of 1.\n",
    "Params.init_lifecycle['PermGroFac'] = [1.03]*14 + [1]*25 + [0.7] + [1]*9     # Income growth over the lifetime for unskilled workers\n",
    "\n",
    "Lifecycle_Unskilled = Model.IndShockConsumerType(**Params.init_lifecycle)\n",
    "Lifecycle_Unskilled.cycles = 1 #1 for finite horizon and 0 for infinite horizon\n",
    "Lifecycle_Unskilled.solve()\n",
    "Lifecycle_Unskilled.unpackcFunc()\n",
    "Lifecycle_Unskilled.timeFwd() #make sure that time is moving forward"
   ]
  },
  {
   "cell_type": "code",
   "execution_count": null,
   "metadata": {
    "code_folding": [
     0
    ]
   },
   "outputs": [],
   "source": [
    "# Define Operatives: 2.5 percent growth from 26~50. 1 percent growth from 50~65.\n",
    "\n",
    "Params.init_lifecycle[\"pLvlInitMean\"]= math.log(1/1.025) #This is set as such to offset growth bug\n",
    "Params.init_lifecycle['PermGroFac'] = [1.025]*24 + [1.01]*15 + [0.7] + [1]*9     #Income growth over the lifetime for operatives\n",
    "\n",
    "Lifecycle_Operatives = Model.IndShockConsumerType(**Params.init_lifecycle)\n",
    "Lifecycle_Operatives.cycles = 1 #1 for finite horizon and 0 for infinite horizon\n",
    "Lifecycle_Operatives.solve()\n",
    "Lifecycle_Operatives.unpackcFunc()\n",
    "Lifecycle_Operatives.timeFwd() #make sure that time is moving forward"
   ]
  },
  {
   "cell_type": "code",
   "execution_count": null,
   "metadata": {
    "code_folding": [
     0
    ]
   },
   "outputs": [],
   "source": [
    "# Define Managers: 3 percent growth from 26~55. 1 percent decline from 55~65.\n",
    "\n",
    "Params.init_lifecycle[\"pLvlInitMean\"]= math.log(1/1.03) #This is set as such to offset growth bug\n",
    "Params.init_lifecycle['PermGroFac'] = [1.03]*29 + [0.99]*10 + [0.7] + [1]*9     #Income growth over the lifetime for managers\n",
    "\n",
    "Lifecycle_Managers = Model.IndShockConsumerType(**Params.init_lifecycle)\n",
    "Lifecycle_Managers.cycles = 1 #1 for finite horizon and 0 for infinite horizon\n",
    "Lifecycle_Managers.solve()\n",
    "Lifecycle_Managers.unpackcFunc()\n",
    "Lifecycle_Managers.timeFwd() #make sure that time is moving forward"
   ]
  },
  {
   "cell_type": "code",
   "execution_count": null,
   "metadata": {
    "code_folding": [
     0
    ]
   },
   "outputs": [],
   "source": [
    "# Simulate the models for each agent type\n",
    "\n",
    "if do_simulation:\n",
    "    Lifecycle_Unskilled.T_sim = 49 #Simulate agents for 49 periods since their lifespan is 49 periods\n",
    "    Lifecycle_Unskilled.track_vars = ['aNrmNow','mNrmNow','cNrmNow','pLvlNow','t_age'] #track these variables\n",
    "    Lifecycle_Unskilled.initializeSim()\n",
    "    Lifecycle_Unskilled.simulate()\n",
    "    \n",
    "if do_simulation:\n",
    "    Lifecycle_Operatives.T_sim = 49\n",
    "    Lifecycle_Operatives.track_vars = ['aNrmNow','mNrmNow','cNrmNow','pLvlNow','t_age']\n",
    "    Lifecycle_Operatives.initializeSim()\n",
    "    Lifecycle_Operatives.simulate()\n",
    "\n",
    "if do_simulation:\n",
    "    Lifecycle_Managers.T_sim = 49\n",
    "    Lifecycle_Managers.track_vars = ['aNrmNow','mNrmNow','cNrmNow','pLvlNow','t_age']\n",
    "    Lifecycle_Managers.initializeSim()    \n",
    "    Lifecycle_Managers.simulate()\n",
    "    \n",
    "#aNrmNow: End of Period Assets normalized by permanent income\n",
    "#mNrmNow: Market Resources (beginning of period assets + income) normalized by permanent income\n",
    "#cNrmNow: Consumption normalized by permanent income\n",
    "#pLvlNow: Permanent level of income\n",
    "#t_age:   Period of the simulation"
   ]
  },
  {
   "cell_type": "code",
   "execution_count": null,
   "metadata": {
    "code_folding": [
     0
    ]
   },
   "outputs": [],
   "source": [
    "# Save the simulated data into a dataframe\n",
    "\n",
    "import pandas as pd\n",
    "raw_data = {'T_age': Lifecycle_Unskilled.t_age_hist.flatten()+25, #add 25 to make the starting age 26. age is same for all occupations so so need to make three of these.\n",
    "            'cNrmNow_Unskilled': Lifecycle_Unskilled.cNrmNow_hist.flatten(),\n",
    "            'pLvlNow_Unskilled': Lifecycle_Unskilled.pLvlNow_hist.flatten(),\n",
    "            'cNrmNow_Operatives': Lifecycle_Operatives.cNrmNow_hist.flatten(),\n",
    "            'pLvlNow_Operatives': Lifecycle_Operatives.pLvlNow_hist.flatten(),\n",
    "            'cNrmNow_Managers': Lifecycle_Managers.cNrmNow_hist.flatten(),\n",
    "            'pLvlNow_Managers': Lifecycle_Managers.pLvlNow_hist.flatten()}\n",
    "\n",
    "Data = pd.DataFrame(raw_data) #make the raw data into a formal dataset\n",
    "\n",
    "Data['Cons_Unskilled'] = Data.cNrmNow_Unskilled * Data.pLvlNow_Unskilled #This represents consumption level\n",
    "Data['Cons_Operatives'] = Data.cNrmNow_Operatives * Data.pLvlNow_Operatives\n",
    "Data['Cons_Managers'] = Data.cNrmNow_Managers * Data.pLvlNow_Managers\n",
    "Data['Inc_Unskilled'] = Data.pLvlNow_Unskilled\n",
    "Data['Inc_Operatives'] = Data.pLvlNow_Operatives \n",
    "Data['Inc_Managers'] = Data.pLvlNow_Managers\n",
    "\n",
    "AgeMeans = Data.groupby(['T_age']).mean().reset_index() # Group the dataset by T_age and get the mean."
   ]
  },
  {
   "cell_type": "code",
   "execution_count": null,
   "metadata": {
    "code_folding": [
     0
    ],
    "scrolled": true
   },
   "outputs": [],
   "source": [
    "# Plot consumption and permanent income across the lifecycle for each occupation type.\n",
    "plt.figure()\n",
    "\n",
    "plt.plot(AgeMeans.T_age, AgeMeans.Cons_Unskilled,label='Consumption')\n",
    "plt.plot(AgeMeans.T_age, AgeMeans.Inc_Unskilled,label='Income')\n",
    "\n",
    "plt.legend()\n",
    "plt.xlabel('Age')\n",
    "plt.title('Unskilled Laborers')\n",
    "plt.ylim(0.8,2.5)\n",
    "plt.savefig('../../Paper/Figures/Figure5a.png')\n",
    "\n",
    "plt.figure()\n",
    "\n",
    "plt.plot(AgeMeans.T_age, AgeMeans.Cons_Operatives,label='Consumption')\n",
    "plt.plot(AgeMeans.T_age, AgeMeans.Inc_Operatives, label='Income')\n",
    "\n",
    "plt.legend()\n",
    "plt.xlabel('Age')\n",
    "plt.title('Operatives')\n",
    "plt.ylim(0.8,2.5)\n",
    "plt.savefig('../../Paper/Figures/Figure5b.png')\n",
    "plt.figure()\n",
    "\n",
    "plt.plot(AgeMeans.T_age, AgeMeans.Cons_Managers,label='Consumption')\n",
    "plt.plot(AgeMeans.T_age, AgeMeans.Inc_Managers, label='Income')\n",
    "\n",
    "plt.legend()\n",
    "plt.xlabel('Age')\n",
    "plt.title('Managers')\n",
    "plt.ylim(0.8,2.5)\n",
    "plt.savefig('../../Paper/Figures/Figure5c.png')"
   ]
  },
  {
   "cell_type": "markdown",
   "metadata": {},
   "source": [
    "Results show the parallel until the age of 45 or 50. Then retirement savings allow income profile to rise above the consumption profile in the years immediately before the retirement.\n",
    "\n",
    "#### 2) The Consumption/Income Divergence in High Frequency Data\n",
    "\n",
    "The Buffer-Stock model has no difficulty generating an MPC large enough to match emprical estimates, while the standard LC/PIH model is simply incapable of implying large values for the MPC out of transitory income. \n",
    "\n",
    "#### 3) The Behaviour of Wealth over the Lifetime\n",
    "\n",
    "Median ratio of wealth(financial assets) to income(annual income) is between 2 and 35 percent at all ages before the retirement. This fact is stable over the early 1960s and the late 1980s but there was a sharp slowdown(post-1973) in the productivity growth within this period. \n",
    "\n",
    "The productivity growth slowdown is assumed to result in a 1 percent slower growth rate of labor income over the working labor income. \n",
    "\n",
    "This fact is not explained by the standard LC/PIH model as the lower growth induces an enourmous increase in household wealth at all ages greater than 30. On average, the slower curve is higher than the faster curve by an amount equal to roughly two years' worth of income. Thus, the model predicts enourmous increase in household wealth/income ratios due to the productivity slowdown. \n",
    "\n",
    "Below are figures that show the different wealth ratios over the lifecycle for the standard LC/PIH model (Figure VI) and the buffer stock saving LC/PIH model (Figure VII). The standard LC/PIH model over-estimates the effect of a decrease in productivity growth. The difference between the two productivity growth scenarios in the buffer stock saving LC/PIH model is not remotely so dramatic as in the standard model."
   ]
  },
  {
   "cell_type": "code",
   "execution_count": null,
   "metadata": {
    "code_folding": [
     0
    ],
    "lines_to_next_cell": 2
   },
   "outputs": [],
   "source": [
    "# Parameter setup and model solving to simulate Figure VI (Wealth for faster and slower income growth under perfect foresight)\n",
    "\n",
    "from HARK.ConsumptionSaving.ConsIndShockModel import PerfForesightConsumerType\n",
    "\n",
    "Params.init_lifecycle[\"CRRA\"]= 2.00            # Default coefficient of relative risk aversion (rho)\n",
    "Params.init_lifecycle[\"DiscFac\"]= 0.96         # Default intertemporal discount factor (beta)\n",
    "Params.init_lifecycle[\"PermGroFacAgg\"]= 1.02   # Aggregate permanent income growth factor \n",
    "Params.init_lifecycle[\"aNrmInitMean\"]= -1000   # Mean of log initial assets \n",
    "Params.init_lifecycle[\"aNrmInitStd\"]= 0.0      # Standard deviation of log initial assets\n",
    "Params.init_lifecycle[\"pLvlInitMean\"]= 0.0     # Mean of log initial permanent income \n",
    "Params.init_lifecycle[\"pLvlInitStd\"]= 0.0      # Standard deviation of log initial permanent income\n",
    "Params.init_lifecycle[\"Rfree\"]= 1.08           # Risk free interest rate has been set to 8% so that it best fits the the age/wealth profile of data\n",
    "\n",
    "Params.init_lifecycle['AgentCount'] = 1        # This is a perfect foresight model so we only need 1 agent\n",
    "\n",
    "Params.init_lifecycle['PermShkStd'] = [0]*49   # No shocks in a perfect foresight model\n",
    "Params.init_lifecycle['TranShkStd'] = [0]*49   # No shocks in a perfect foresight model\n",
    "Params.init_lifecycle['LivPrb']     = [1]*49   # No probability of death before terminal age\n",
    "Params.init_lifecycle['T_cycle']    = 49       # Life starts at age 26 and ends at 75\n",
    "Params.init_lifecycle['T_retire']   = 40       # Agents retire at age 65\n",
    "Params.init_lifecycle['T_age']      = 50       # Make sure that old people die at terminal age and don't turn into newborns!\n",
    "\n",
    "Params.init_lifecycle[\"pLvlInitMean\"]= math.log(1/1.025) #This is set as such to offset growth bug\n",
    "Params.init_lifecycle['PermGroFac'] = [1.025]*24 + [1.01]*15 + [0.7] + [1]*9     #Lifetime income growth for operatives\n",
    "\n",
    "Lifecycle_Operatives_PF = Model.PerfForesightConsumerType(**Params.init_lifecycle)\n",
    "Lifecycle_Operatives_PF.cycles = 1 #1 for finite horizon and 0 for infinite horizon\n",
    "Lifecycle_Operatives_PF.solve()\n",
    "Lifecycle_Operatives_PF.unpackcFunc()\n",
    "Lifecycle_Operatives_PF.timeFwd() #make sure that time is moving forward\n",
    "\n",
    "Params.init_lifecycle[\"pLvlInitMean\"]= math.log(1/1.015) #This is set as such to offset growth bug\n",
    "Params.init_lifecycle['PermGroFac'] = [1.015]*24 + [1.00]*15 + [0.7] + [1]*9     #Lifetime income growth for operatives with 1% slower income growth\n",
    "\n",
    "Lifecycle_Operatives_PF_Slow = Model.PerfForesightConsumerType(**Params.init_lifecycle)\n",
    "Lifecycle_Operatives_PF_Slow.cycles = 1 #1 for finite horizon and 0 for infinite horizon\n",
    "Lifecycle_Operatives_PF_Slow.solve()\n",
    "Lifecycle_Operatives_PF_Slow.unpackcFunc()\n",
    "Lifecycle_Operatives_PF_Slow.timeFwd() #make sure that time is moving forward"
   ]
  },
  {
   "cell_type": "code",
   "execution_count": null,
   "metadata": {
    "code_folding": [
     0
    ]
   },
   "outputs": [],
   "source": [
    "# Simulate the models\n",
    "\n",
    "if do_simulation:\n",
    "    Lifecycle_Operatives_PF.T_sim = 49 \n",
    "    Lifecycle_Operatives_PF.track_vars = ['aNrmNow','mNrmNow','cNrmNow','pLvlNow','t_age'] #track these variables\n",
    "    Lifecycle_Operatives_PF.initializeSim()\n",
    "    Lifecycle_Operatives_PF.simulate()\n",
    "\n",
    "if do_simulation:\n",
    "    Lifecycle_Operatives_PF_Slow.T_sim = 49\n",
    "    Lifecycle_Operatives_PF_Slow.track_vars = ['aNrmNow','mNrmNow','cNrmNow','pLvlNow','t_age'] #track these variables\n",
    "    Lifecycle_Operatives_PF_Slow.initializeSim()\n",
    "    Lifecycle_Operatives_PF_Slow.simulate()\n",
    "    \n",
    "raw_data = {'T_age': Lifecycle_Operatives_PF.t_age_hist.flatten()+25,\n",
    "            'aNrmNow_Operatives': Lifecycle_Operatives_PF.aNrmNow_hist.flatten(),\n",
    "            'aNrmNow_Operatives_Slow': Lifecycle_Operatives_PF_Slow.aNrmNow_hist.flatten()}\n",
    "\n",
    "#Make the simulated results into a dataset\n",
    "\n",
    "Data = pd.DataFrame(raw_data) #make the raw data into a formal dataset\n",
    "Data['W_Y_PF'] = Data.aNrmNow_Operatives\n",
    "Data['W_Y_PF_Slow'] = Data.aNrmNow_Operatives_Slow"
   ]
  },
  {
   "cell_type": "code",
   "execution_count": null,
   "metadata": {
    "code_folding": [
     0
    ],
    "scrolled": true
   },
   "outputs": [],
   "source": [
    "# Plot wealth over the lifecycle for both the faster and slower productivity growth cases.\n",
    "plt.figure()\n",
    "\n",
    "plt.plot(Data.T_age, Data.W_Y_PF,label='Faster Productivity Growth')\n",
    "plt.plot(Data.T_age, Data.W_Y_PF_Slow,label='Slower Productivity Growth',linestyle='--')\n",
    "\n",
    "plt.legend()\n",
    "plt.xlabel('Age')\n",
    "plt.ylabel('Wealth')\n",
    "plt.title('Figure VI: Standard Lifecycle Model')\n",
    "plt.savefig('../../Paper/Figures/Figure6.png')"
   ]
  },
  {
   "cell_type": "code",
   "execution_count": null,
   "metadata": {
    "code_folding": [
     0
    ]
   },
   "outputs": [],
   "source": [
    "# Parameter setup and model solving to simulate Figure VII (Wealth for faster and slower income growth in a bufferstock model)\n",
    "\n",
    "#Parameter setup and solve\n",
    "\n",
    "Params.init_lifecycle[\"CRRA\"]= 2.00            # Default coefficient of relative risk aversion (rho)\n",
    "Params.init_lifecycle[\"DiscFac\"]= 0.96         # Default intertemporal discount factor (beta)\n",
    "Params.init_lifecycle[\"PermGroFacAgg\"]= 1.02   # Aggregate permanent income growth factor \n",
    "Params.init_lifecycle[\"aNrmInitMean\"]= -1000   # Mean of log initial assets \n",
    "Params.init_lifecycle[\"aNrmInitStd\"]= 0.0      # Standard deviation of log initial assets\n",
    "Params.init_lifecycle[\"pLvlInitMean\"]= 0.0     # Mean of log initial permanent income \n",
    "Params.init_lifecycle[\"pLvlInitStd\"]= 0.0      # Standard deviation of log initial permanent income\n",
    "Params.init_lifecycle[\"Rfree\"]= 1.00           # Risk free interest rate set to default 0%\n",
    "\n",
    "Params.init_lifecycle['AgentCount'] = 10000    # Simulate 10000 agents\n",
    "\n",
    "Params.init_lifecycle['PermShkStd'] = [0.1]*40 + [0]*9   # SD of permanent income shock\n",
    "Params.init_lifecycle['TranShkStd'] = [0.1]*40 + [0]*9   # SD of transitory income shock\n",
    "Params.init_lifecycle['LivPrb']     = [1]*49   # No probability of death before terminal age\n",
    "Params.init_lifecycle['T_cycle']    = 49       # Life starts at age 26 and ends at 75\n",
    "Params.init_lifecycle['T_retire']   = 40       # Agents retire at age 65\n",
    "Params.init_lifecycle['T_age']      = 50       # Make sure that old people die at terminal age and don't turn into newborns!\n",
    "\n",
    "Params.init_lifecycle[\"pLvlInitMean\"]= math.log(1/1.025) #This is set as such to offset growth bug\n",
    "Params.init_lifecycle['PermGroFac'] = [1.025]*24 + [1.01]*15 + [0.7] + [1]*9     #Lifetime income growth for operatives\n",
    "\n",
    "Lifecycle_Operatives = Model.IndShockConsumerType(**Params.init_lifecycle)\n",
    "Lifecycle_Operatives.cycles = 1 #1 for finite horizon and 0 for infinite horizon\n",
    "Lifecycle_Operatives.solve()\n",
    "Lifecycle_Operatives.unpackcFunc()\n",
    "Lifecycle_Operatives.timeFwd() #make sure that time is moving forward\n",
    "\n",
    "Params.init_lifecycle[\"pLvlInitMean\"]= math.log(1/1.015) #This is set as such to offset growth bug\n",
    "Params.init_lifecycle['PermGroFac'] = [1.015]*24 + [1.0]*15 + [0.7] + [1]*9     #Lifetime income growth for operatives with 1% lower labor income growth\n",
    "\n",
    "Lifecycle_Operatives_Slower = Model.IndShockConsumerType(**Params.init_lifecycle)\n",
    "Lifecycle_Operatives_Slower.cycles = 1 #1 for finite horizon and 0 for infinite horizon\n",
    "Lifecycle_Operatives_Slower.solve()\n",
    "Lifecycle_Operatives_Slower.unpackcFunc()\n",
    "Lifecycle_Operatives_Slower.timeFwd() #make sure that time is moving forward"
   ]
  },
  {
   "cell_type": "code",
   "execution_count": null,
   "metadata": {
    "code_folding": [
     0
    ]
   },
   "outputs": [],
   "source": [
    "# Simulate the models\n",
    "if do_simulation:\n",
    "    Lifecycle_Operatives.T_sim = 49\n",
    "    Lifecycle_Operatives.track_vars = ['aNrmNow','mNrmNow','cNrmNow','pLvlNow','t_age'] #track these variables\n",
    "    Lifecycle_Operatives.initializeSim()\n",
    "    Lifecycle_Operatives.simulate()\n",
    "    \n",
    "if do_simulation:\n",
    "    Lifecycle_Operatives_Slower.T_sim = 49\n",
    "    Lifecycle_Operatives_Slower.track_vars = ['aNrmNow','mNrmNow','cNrmNow','pLvlNow','t_age'] #track these variables\n",
    "    Lifecycle_Operatives_Slower.initializeSim()\n",
    "    Lifecycle_Operatives_Slower.simulate()\n",
    "    \n",
    "raw_data = {'T_age': Lifecycle_Operatives.t_age_hist.flatten()+25, \n",
    "            'aNrmNow_Operatives': Lifecycle_Operatives.aNrmNow_hist.flatten(),\n",
    "            'aNrmNow_Operatives_Slower': Lifecycle_Operatives_Slower.aNrmNow_hist.flatten(),}\n",
    "\n",
    "#Make the simulated results into a dataset\n",
    "\n",
    "Data = pd.DataFrame(raw_data) #make the raw data into a formal dataset\n",
    "\n",
    "Data['W_Y_Faster'] = Data.aNrmNow_Operatives #Data is named W_Y since it is wealth normalized by permanent income.\n",
    "Data['W_Y_Slower'] = Data.aNrmNow_Operatives_Slower\n",
    "AgeMeans = Data.groupby(['T_age']).median().reset_index() #Group the dataset by T_age and get the median."
   ]
  },
  {
   "cell_type": "code",
   "execution_count": null,
   "metadata": {
    "code_folding": [
     0
    ],
    "scrolled": true
   },
   "outputs": [],
   "source": [
    "# Plot wealth over the lifecycle for both the faster and slower productivity growth cases.\n",
    "plt.figure()\n",
    "\n",
    "plt.plot(AgeMeans.T_age, AgeMeans.W_Y_Faster,label='Faster Productivity Growth')\n",
    "plt.plot(AgeMeans.T_age, AgeMeans.W_Y_Slower, label='Slower Productivity Growth',linestyle='--')\n",
    "\n",
    "plt.legend()\n",
    "plt.xlabel('Age')\n",
    "plt.ylabel('Wealth')\n",
    "plt.title('Figure VII: Buffer Stock Lifecycle Model')\n",
    "plt.savefig('../../Paper/Figures/Figure7.png')"
   ]
  },
  {
   "cell_type": "markdown",
   "metadata": {},
   "source": [
    "### Variation of Parameter Values\n",
    "\n",
    "Below are two tables showing different values of model specific variables under different parameters. Table 1 values represent the steady state values under an infinite horizon buffer stock model. Table 2 values represent the steady state values under an infinite horizon perfect foresight model and an infinite horizon buffer stock model."
   ]
  },
  {
   "cell_type": "code",
   "execution_count": null,
   "metadata": {
    "code_folding": [
     0
    ]
   },
   "outputs": [],
   "source": [
    "# Calibrate Table 1\n",
    "\n",
    "#Some preliminary setup and parameter definitions\n",
    "\n",
    "import HARK.ConsumptionSaving.ConsumerParameters as Params \n",
    "\n",
    "# Make a dictionary containing all parameters needed to solve the model\n",
    "base_params = Params.init_idiosyncratic_shocks\n",
    "\n",
    "# Set the parameters for the baseline results in the paper\n",
    "# using the variable values defined in the cell above\n",
    "base_params['PermGroFac'] = [1.02]  # Permanent income growth factor\n",
    "base_params['Rfree']      = 1       # Interest factor on assets\n",
    "base_params['DiscFac']    = 0.96    # Time Preference Factor\n",
    "base_params['CRRA']       = 2.00    # Coefficient of relative risk aversion\n",
    "base_params['UnempPrb']   = 0.005   # Probability of unemployment (e.g. Probability of Zero Income in the paper)\n",
    "base_params['IncUnemp']   = 0.0     # Induces natural borrowing constraint\n",
    "base_params['PermShkStd'] = [0.1]   # Standard deviation of log permanent income shocks\n",
    "base_params['TranShkStd'] = [0.1]   # Standard deviation of log transitory income shocks\n",
    "\n",
    "# Some technical settings that are not interesting for our purposes\n",
    "base_params['LivPrb']       = [1.0]   # 100 percent probability of living to next period\n",
    "base_params['CubicBool']    = True    # Use cubic spline interpolation\n",
    "base_params['T_cycle']      = 1       # No 'seasonal' cycles\n",
    "base_params['BoroCnstArt']  = None    # No artificial borrowing constraint"
   ]
  },
  {
   "cell_type": "code",
   "execution_count": null,
   "metadata": {
    "code_folding": [
     0
    ]
   },
   "outputs": [],
   "source": [
    "# Solve the model under three different parameter setups.\n",
    "from HARK.ConsumptionSaving.ConsIndShockModel import IndShockConsumerType\n",
    "\n",
    "#Base parameter model\n",
    "baseEx_inf = IndShockConsumerType(cycles=0,**base_params) #cycles=0 since we are solving for an infinite horizon consumer\n",
    "\n",
    "#Variant of the model with permanent income growth set as 1.04\n",
    "base_params['PermGroFac']=[1.04]\n",
    "baseEx_infg= IndShockConsumerType(cycles=0,**base_params)\n",
    "\n",
    "#Variant of the model with the discount factor set as 0.9\n",
    "base_params['PermGroFac']=[1.02]\n",
    "base_params['DiscFac'] = 0.9\n",
    "baseEx_infd= IndShockConsumerType(cycles=0,**base_params)\n",
    "\n",
    "#Solve for the three different models\n",
    "baseEx_inf.solve()\n",
    "baseEx_inf.unpackcFunc()\n",
    "\n",
    "baseEx_infg.solve()\n",
    "baseEx_infg.unpackcFunc()\n",
    "\n",
    "baseEx_infd.solve()\n",
    "baseEx_infd.unpackcFunc()"
   ]
  },
  {
   "cell_type": "code",
   "execution_count": null,
   "metadata": {
    "code_folding": [
     0
    ]
   },
   "outputs": [],
   "source": [
    "# Simulate the three models\n",
    "\n",
    "if do_simulation:\n",
    "    baseEx_inf.T_sim = 100 #We simulate for 100 periods compared to 10 periods in the original paper since we do not control for initial saving ratio. It takes more periods to converge to the steady state.\n",
    "    baseEx_inf.track_vars = ['aNrmNow','mNrmNow','cNrmNow','pLvlNow','t_age'] #track these variables\n",
    "    baseEx_inf.initializeSim()\n",
    "    baseEx_inf.simulate()\n",
    "    \n",
    "if do_simulation:\n",
    "    baseEx_infg.T_sim = 100 #We simulate for 100 periods compared to 10 periods in the original paper since we do not control for initial saving ratio. It takes more periods to converge to the steady state.\n",
    "    baseEx_infg.track_vars = ['aNrmNow','mNrmNow','cNrmNow','pLvlNow','t_age'] #track these variables\n",
    "    baseEx_infg.initializeSim()\n",
    "    baseEx_infg.simulate()\n",
    "\n",
    "if do_simulation:\n",
    "    baseEx_infd.T_sim = 100 #We simulate for 100 periods compared to 10 periods in the original paper since we do not control for initial saving ratio. It takes more periods to converge to the steady state.\n",
    "    baseEx_infd.track_vars = ['aNrmNow','mNrmNow','cNrmNow','pLvlNow','t_age'] #track these variables\n",
    "    baseEx_infd.initializeSim()\n",
    "    baseEx_infd.simulate()"
   ]
  },
  {
   "cell_type": "code",
   "execution_count": null,
   "metadata": {
    "code_folding": [
     0
    ]
   },
   "outputs": [],
   "source": [
    "# Save simulated data into a dataframe\n",
    "\n",
    "import pandas as pd\n",
    "raw_data = {'T_age': baseEx_inf.t_age_hist.flatten()+25,\n",
    "            'cNrm': baseEx_inf.cNrmNow_hist.flatten(),\n",
    "            'logcNrm': np.log(baseEx_inf.cNrmNow_hist.flatten()),\n",
    "            'pLvl': baseEx_inf.pLvlNow_hist.flatten(),\n",
    "            'logpLvl': np.log(baseEx_inf.pLvlNow_hist.flatten()),\n",
    "            'mNrm': baseEx_inf.mNrmNow_hist.flatten(),\n",
    "            'logmNrm': np.log(baseEx_inf.mNrmNow_hist.flatten()),\n",
    "            'aNrm': baseEx_inf.aNrmNow_hist.flatten(),    \n",
    "            'cNrmg': baseEx_infg.cNrmNow_hist.flatten(),\n",
    "            'logcNrmg': np.log(baseEx_infg.cNrmNow_hist.flatten()),\n",
    "            'pLvlg': baseEx_infg.pLvlNow_hist.flatten(),\n",
    "            'logpLvlg': np.log(baseEx_infg.pLvlNow_hist.flatten()),\n",
    "            'mNrmg': baseEx_infg.mNrmNow_hist.flatten(),\n",
    "            'logmNrmg': np.log(baseEx_infg.mNrmNow_hist.flatten()),\n",
    "            'aNrmg': baseEx_infg.aNrmNow_hist.flatten(),\n",
    "            'cNrmd': baseEx_infd.cNrmNow_hist.flatten(),\n",
    "            'logcNrmd': np.log(baseEx_infd.cNrmNow_hist.flatten()),\n",
    "            'pLvld': baseEx_infd.pLvlNow_hist.flatten(),\n",
    "            'logpLvld': np.log(baseEx_infd.pLvlNow_hist.flatten()),\n",
    "            'mNrmd': baseEx_infd.mNrmNow_hist.flatten(),\n",
    "            'logmNrmd': np.log(baseEx_infd.mNrmNow_hist.flatten()),\n",
    "            'aNrmd': baseEx_infd.aNrmNow_hist.flatten()}\n",
    "\n",
    "Data = pd.DataFrame(raw_data) #make the raw data into a formal dataset\n",
    "\n",
    "Data['Cons'] = Data.cNrm * Data.pLvl             #Consumption level\n",
    "Data['logCons'] = Data.logcNrm + Data.logpLvl    #log of consumption level\n",
    "Data['Consg'] = Data.cNrmg * Data.pLvlg          #Consumption level for g=1.04 model\n",
    "Data['logConsg'] = Data.logcNrmg + Data.logpLvlg #log of consumption level for g=1.04 model\n",
    "Data['Consd'] = Data.cNrmd * Data.pLvld          #Consumption level for discount factor=0.9 model\n",
    "Data['logConsd'] = Data.logcNrmd + Data.logpLvld #log of consumption level for discount factor=0.9 model\n",
    "\n",
    "Data['m'] = Data.mNrm * Data.pLvl                #Wealth level\n",
    "Data['logm'] = Data.logmNrm                      #log of wealth level\n",
    "Data['mg'] = Data.mNrmg * Data.pLvlg             #wealth level for g=1.04 model\n",
    "Data['logmg'] = Data.logmNrmg                    #log of wealth for g=1.04 model\n",
    "Data['md'] = Data.mNrmd * Data.pLvld             #wealth level for discount factor=0.9 model\n",
    "Data['logmd'] = Data.logmNrmd                    #log of wealth for discount factor=0.9 model\n",
    "\n",
    "Data['a'] = Data.aNrm * Data.pLvl                #end of period asset level\n",
    "Data['ag'] = Data.aNrmg * Data.pLvlg             #end of period asset level for g=1.04 model\n",
    "Data['ad'] = Data.aNrmd * Data.pLvld             #end of period asset level for discount factor=0.9 model\n",
    "\n",
    "Data['Inc'] = Data.pLvl                          #permanent income level\n",
    "Data['logInc'] = Data.logpLvl                    #log of permanent income\n",
    "Data['Incg'] = Data.pLvlg                        #permanent income level for g=1.04 model\n",
    "Data['logIncg'] = Data.logpLvlg                  #log of permanent income for g=1.04 model\n",
    "Data['Incd'] = Data.pLvld                        #permanent income level for discount factor=0.9 model\n",
    "Data['logIncd'] = Data.logpLvld                  #log of permanent income for discount factor=0.9 model\n",
    "\n",
    "AgeMeans = Data.groupby(['T_age']).mean().reset_index() # Group the dataset by T_age and get the mean."
   ]
  },
  {
   "cell_type": "code",
   "execution_count": null,
   "metadata": {
    "code_folding": [
     0
    ]
   },
   "outputs": [],
   "source": [
    "# Create an empty Table1 and fill the first row\n",
    "\n",
    "table1 = np.zeros((3,7))\n",
    "\n",
    "#Base Model\n",
    "#Growth rate of aggregate consumption\n",
    "table1[0,0] = math.log(AgeMeans.Cons[99]) - math.log(AgeMeans.Cons[98])\n",
    "\n",
    "#Average growth rate of household permanent income\n",
    "table1[0,1]=AgeMeans.logpLvl[99]-AgeMeans.logpLvl[98]\n",
    "\n",
    "#Average growth rate of household consumption\n",
    "table1[0,2]=AgeMeans.logCons[99]-AgeMeans.logCons[98]\n",
    "\n",
    "#Aggregate personal saving rate\n",
    "table1[0,3]=1-(AgeMeans.Cons[99]/(AgeMeans.m[99]-AgeMeans.a[98]))\n",
    "\n",
    "#Average MPC out of wealth\n",
    "table1[0,4]=(baseEx_inf.cFunc[0](AgeMeans.mNrm[99]+0.00001) - baseEx_inf.cFunc[0](AgeMeans.mNrm[99]))/0.00001\n",
    "\n",
    "#Average Net wealth\n",
    "table1[0,5]=(AgeMeans.mNrm[99] - AgeMeans.cNrm[99])\n",
    "\n",
    "#Target net wealth\n",
    "table1[0,6]=baseEx_inf.solution[0].mNrmSS - baseEx_inf.cFunc[0](baseEx_inf.solution[0].mNrmSS)"
   ]
  },
  {
   "cell_type": "code",
   "execution_count": null,
   "metadata": {
    "code_folding": [
     0
    ]
   },
   "outputs": [],
   "source": [
    "# Fill the second row, the g=1.04 model\n",
    "\n",
    "#Growth rate of aggregate consumption\n",
    "table1[1,0]=math.log(AgeMeans.Consg[99]) - math.log(AgeMeans.Consg[98])\n",
    "\n",
    "#Average growth rate of household permanent income\n",
    "table1[1,1]=AgeMeans.logpLvlg[99]-AgeMeans.logpLvlg[98]\n",
    "\n",
    "#Average growth rate of household consumption\n",
    "table1[1,2]=AgeMeans.logConsg[99]-AgeMeans.logConsg[98]\n",
    "\n",
    "#Aggregate personal saving rate\n",
    "table1[1,3]=1-(AgeMeans.Consg[99]/(AgeMeans.mg[99]-AgeMeans.ag[98]))\n",
    "\n",
    "#Average MPC out of wealth\n",
    "table1[1,4]=(baseEx_infg.cFunc[0](AgeMeans.mNrmg[99]+0.00001) - baseEx_infg.cFunc[0](AgeMeans.mNrmg[99]))/0.00001\n",
    "\n",
    "#Average Net wealth\n",
    "table1[1,5]=(AgeMeans.mNrmg[99] - AgeMeans.cNrmg[99])\n",
    "\n",
    "#Target net wealth\n",
    "table1[1,6]=baseEx_infg.solution[0].mNrmSS - baseEx_infg.cFunc[0](baseEx_infg.solution[0].mNrmSS)"
   ]
  },
  {
   "cell_type": "code",
   "execution_count": null,
   "metadata": {
    "code_folding": [
     0
    ]
   },
   "outputs": [],
   "source": [
    "# Fill the third row, the discount factor=0.9 model\n",
    "\n",
    "#Growth rate of aggregate consumption\n",
    "table1[2,0] = math.log(AgeMeans.Consd[99]) - math.log(AgeMeans.Consd[98])\n",
    "\n",
    "#Average growth rate of household permanent income\n",
    "table1[2,1]=AgeMeans.logpLvld[99]-AgeMeans.logpLvld[98]\n",
    "\n",
    "#Average growth rate of household consumption\n",
    "table1[2,2]=AgeMeans.logConsd[99]-AgeMeans.logConsd[98]\n",
    "\n",
    "#Aggregate personal saving rate\n",
    "table1[2,3]=1-(AgeMeans.Consd[99]/(AgeMeans.md[99]-AgeMeans.ad[98]))\n",
    "\n",
    "#Average MPC out of wealth\n",
    "table1[2,4]=(baseEx_infd.cFunc[0](AgeMeans.mNrmd[99]+0.00001) - baseEx_infd.cFunc[0](AgeMeans.mNrmd[99]))/0.00001\n",
    "\n",
    "#Average Net wealth\n",
    "table1[2,5]=(AgeMeans.mNrmd[99] - AgeMeans.cNrmd[99])\n",
    "\n",
    "#Target net wealth\n",
    "table1[2,6]=baseEx_infd.solution[0].mNrmSS - baseEx_infd.cFunc[0](baseEx_infd.solution[0].mNrmSS)"
   ]
  },
  {
   "cell_type": "code",
   "execution_count": null,
   "metadata": {
    "code_folding": [
     0
    ]
   },
   "outputs": [],
   "source": [
    "# Table 1\n",
    "table = pd.DataFrame(table1)\n",
    "table.columns = ['Growth rate of aggregate consumption', 'Average growth rate of household permanent income', 'Average growth rate of household consumption', 'Aggregate personal saving rate', 'Average MPC out of wealth','Average net wealth','Target net wealth'] # add names for columns\n",
    "table.index = ['Base Model','g = .04','DiscFac = .90']\n",
    "table"
   ]
  },
  {
   "cell_type": "code",
   "execution_count": null,
   "metadata": {},
   "outputs": [],
   "source": [
    "#create tabular version of the dataframe and export it\n",
    "from tabulate import tabulate\n",
    "headers = ['Agg Cons Growth Rate', 'Perm Inc Av Growth Rate', 'Cons Av Growth Rate', 'Agg Saving Rate', 'Av MPC','Av Net Wealth','Target Net Wealth']\n",
    "tab1 = tabulate(table,headers, tablefmt='latex')\n",
    "with open('../../Paper/Tables/table1.tex','w') as table_1:\n",
    "    table_1.write(tab1)"
   ]
  },
  {
   "cell_type": "code",
   "execution_count": null,
   "metadata": {
    "code_folding": [
     0
    ]
   },
   "outputs": [],
   "source": [
    "# Preliminary parameter setup to calibrate Table 2\n",
    "\n",
    "# Import default parameter values\n",
    "import HARK.ConsumptionSaving.ConsumerParameters as Params \n",
    "\n",
    "# Make a dictionary containing all parameters needed to solve the model\n",
    "base_params = Params.init_idiosyncratic_shocks\n",
    "\n",
    "# Set the parameters for the baseline results in the paper\n",
    "# using the variable values defined in the cell above\n",
    "base_params['PermGroFac'] = [1.02]    # Permanent income growth factor\n",
    "base_params['Rfree']      = 1.04      # Interest factor on assets\n",
    "base_params['DiscFac']    = 0.96      # Time Preference Factor\n",
    "base_params['CRRA']       = 2.00      # Coefficient of relative risk aversion\n",
    "base_params['UnempPrb']   = 0.005     # Probability of unemployment (e.g. Probability of Zero Income in the paper)\n",
    "base_params['IncUnemp']   = 0.0       # Induces natural borrowing constraint\n",
    "base_params['PermShkStd'] = [0.1]     # Standard deviation of log permanent income shocks\n",
    "base_params['TranShkStd'] = [0.1]     # Standard deviation of log transitory income shocks\n",
    "\n",
    "# Some technical settings that are not interesting for our purposes\n",
    "base_params['LivPrb']       = [1.0]   # 100 percent probability of living to next period\n",
    "base_params['CubicBool']    = True    # Use cubic spline interpolation\n",
    "base_params['T_cycle']      = 1       # No 'seasonal' cycles\n",
    "base_params['BoroCnstArt']  = None    # No artificial borrowing constraint"
   ]
  },
  {
   "cell_type": "code",
   "execution_count": null,
   "metadata": {
    "code_folding": [
     0
    ]
   },
   "outputs": [],
   "source": [
    "# Higher growth rate variant of the model\n",
    "from HARK.ConsumptionSaving.ConsIndShockModel import IndShockConsumerType\n",
    "\n",
    "#Base Model\n",
    "baseEx_inf = IndShockConsumerType(cycles=0,**base_params) # Infinite Horizon model\n",
    "\n",
    "#Model with higher growth rate\n",
    "base_params['PermGroFac']=[1.03]\n",
    "baseEx_infg = IndShockConsumerType(cycles=0,**base_params)\n",
    "\n",
    "baseEx_inf.solve()\n",
    "baseEx_inf.unpackcFunc()\n",
    "\n",
    "baseEx_infg.solve()\n",
    "baseEx_infg.unpackcFunc()"
   ]
  },
  {
   "cell_type": "code",
   "execution_count": null,
   "metadata": {
    "code_folding": [
     0
    ]
   },
   "outputs": [],
   "source": [
    "# Fill the first, fifth, sixth, and seventh columns of Table 2\n",
    "import math\n",
    "from scipy.optimize import fsolve\n",
    "\n",
    "Rfree = 1.04 #Set Rfree to be equal to the risk free interest rate set in parameters\n",
    "table2 = np.zeros((7,8))\n",
    "DeltaHW = (1/(1 - 1.03/Rfree)) - (1/(1 - 1.02/Rfree)) #Human wealth difference between two growth rates\n",
    "\n",
    "for i in range(8):\n",
    "    table2[i-1,0] = 0.4*i                                  #Different Gross wealth ratios\n",
    "    table2[i-1,4] = baseEx_inf.cFunc[0](0.4*i)             #consumption under 2% permanent income growth rate\n",
    "    table2[i-1,5] = baseEx_infg.cFunc[0](0.4*i)            #consumption under 3% permanent income growth rate\n",
    "    table2[i-1,6] = (table2[i-1,5]-table2[i-1,4])/DeltaHW  #MPC out of human wealth\n",
    "    def func(x):\n",
    "        return table2[i-1,5]-table2[i-1,4]-(1-(x**(-1)*((x*DiscFac)**(1/CRRA))))*((1/(1-(1.03/x)))-(1/(1-(1.02/x))))\n",
    "    table2[i-1,7] = fsolve(func, 1.1) -1                   #Implied discount rate of future income"
   ]
  },
  {
   "cell_type": "code",
   "execution_count": null,
   "metadata": {
    "code_folding": [
     0
    ]
   },
   "outputs": [],
   "source": [
    "# Setup for the perfect foresight case\n",
    "from HARK.ConsumptionSaving.ConsIndShockModel import PerfForesightConsumerType\n",
    "\n",
    "base_params['PermGroFac']=[1.02] #Set to original value\n",
    "baseEx_inf_PF = PerfForesightConsumerType(cycles=0,**base_params) #Infinite horizon perfect foresight consumer\n",
    "\n",
    "base_params['PermGroFac']=[1.03]\n",
    "baseEx_inf_PFg = PerfForesightConsumerType(cycles=0,**base_params)\n",
    "\n",
    "baseEx_inf_PF.solve()\n",
    "baseEx_inf_PF.unpackcFunc()\n",
    "\n",
    "baseEx_inf_PFg.solve()\n",
    "baseEx_inf_PFg.unpackcFunc()"
   ]
  },
  {
   "cell_type": "code",
   "execution_count": null,
   "metadata": {
    "code_folding": [
     0
    ]
   },
   "outputs": [],
   "source": [
    "# Fill the second, third, and fourth columns of Table 2\n",
    "for i in range(8):\n",
    "    table2[i-1,1] = baseEx_inf_PF.cFunc[0](0.4*i)            #Consumption in certainty model when permanent income growth rate is 2%\n",
    "    table2[i-1,2] = baseEx_inf_PFg.cFunc[0](0.4*i)           #Consumption in certainty model when permanent income growth rate is 3%\n",
    "    table2[i-1,3] = (table2[i-1,2] - table2[i-1,1])/DeltaHW  #MPC out of human wealth in certainty model"
   ]
  },
  {
   "cell_type": "code",
   "execution_count": null,
   "metadata": {
    "code_folding": [
     0
    ]
   },
   "outputs": [],
   "source": [
    "#Table 2\n",
    "\n",
    "table = pd.DataFrame(table2)\n",
    "table.columns = ['Wealth', 'PF Consumption g=2%', 'PF Consumption g=3%', 'PF MPC out of human wealth','BS Consumption g=2%', 'BS Consumption g=3%', 'BS MPC out of human wealth', 'BS Implied Discount Rate of Future Income'] # add names for columns\n",
    "table.index =['','','','','','','']\n",
    "table"
   ]
  },
  {
   "cell_type": "code",
   "execution_count": null,
   "metadata": {},
   "outputs": [],
   "source": [
    "#create tabular version of the dataframe and export it\n",
    "from tabulate import tabulate\n",
    "headers = ['Wealth', 'PF Consumption g=2%', 'PF Consumption g=3%', 'PF MPC out of human wealth','BS Consumption g=2%', 'BS Consumption g=3%', 'BS MPC out of human wealth', 'BS Implied Discount Rate of Future Income'] # add names for columns\n",
    "tab2 = tabulate(table,headers, tablefmt='latex')\n",
    "with open('../../Paper/Tables/table2.tex','w') as table_2:\n",
    "    table_2.write(tab2)"
   ]
  },
  {
   "cell_type": "markdown",
   "metadata": {},
   "source": [
    "### Conclusion \n",
    "\n",
    "This paper argues that the buffer-stock version of the LC/PIH model is closer both to the behaviour of the typical household and to Friedman's original conception of the Permanent Income Hypothesis model. It can explain why consumption tracks income closely when aggregated by groups or in whole economies, but is often sharply different from income at the level of individual households. The model is consistent having higher MPC out of transitory income without imposing liquidity constraints. Further, it provides an explanation for why median household wealth/income ratios have remained roughly stable despite a sharp slowdown in expected income growth. "
   ]
  }
 ],
 "metadata": {
  "jupytext": {
   "formats": "ipynb,py:percent",
   "notebook_metadata_filter": "all"
  },
  "kernelspec": {
   "display_name": "Python 3",
   "language": "python",
   "name": "python3"
  },
  "language_info": {
   "codemirror_mode": {
    "name": "ipython",
    "version": 3
   },
   "file_extension": ".py",
   "mimetype": "text/x-python",
   "name": "python",
   "nbconvert_exporter": "python",
   "pygments_lexer": "ipython3",
   "version": "3.7.6"
  }
 },
 "nbformat": 4,
 "nbformat_minor": 4
}
